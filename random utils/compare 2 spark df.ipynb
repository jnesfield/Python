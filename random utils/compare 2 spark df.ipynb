{
  "cells": [
    {
      "cell_type": "markdown",
      "source": [
        "# comp df drift"
      ],
      "metadata": {
        "nteract": {
          "transient": {
            "deleting": false
          }
        }
      }
    },
    {
      "cell_type": "code",
      "source": [
        "\r\n",
        "import sys\r\n",
        "import pandas as pd\r\n",
        "import numpy as np\r\n",
        "from pyspark.sql import SparkSession, DataFrame\r\n",
        "import pyspark.sql.functions as F\r\n",
        "from pyspark.sql.window import Window\r\n",
        "\r\n",
        "def compare_dataframes(df1: DataFrame, df2: DataFrame, pk: list = [\"rownum\"], \r\n",
        "                       noOfOutputRecords: int = 10):\r\n",
        "    def colorCodeDF(df):\r\n",
        "        ''' \r\n",
        "        Changes the cell background to pink where the data between the \r\n",
        "        2 dataframes don't match for easier identification        \r\n",
        "        '''\r\n",
        "        return pd.DataFrame(np.where(df.ne(df.xs('DF1', axis=\"columns\", level=1), \r\n",
        "                                           level=0), 'background-color: pink',''), \r\n",
        "                                           index=df.index, columns=df.columns)\r\n",
        "    \r\n",
        "    # Check if the schemas are identical else no point in checking data rows\r\n",
        "    if df1.schema == df2.schema:\r\n",
        "        print(\"The schemas are identical. Proceeding to data comparison\")\r\n",
        "    else:\r\n",
        "        print(\"The schemas are NOT identical. Cannot proceed to data comparison.\")\r\n",
        "        pdf1 = pd.DataFrame(df1.dtypes, columns=['df1_cols','df1_dtype'])\r\n",
        "        pdf2 = pd.DataFrame(df2.dtypes, columns=['df2_cols','df2_dtype'])\r\n",
        "        print(\"Please check the table for schema differences.\")\r\n",
        "        display(pd.merge(pd.DataFrame(df1.dtypes, columns=['df1_cols','df1_dtype']),\r\n",
        "                     pd.DataFrame(df2.dtypes, columns=['df2_cols','df2_dtype']),\r\n",
        "                     how=\"outer\", left_index=True, right_index=True).style.highlight_null(\"cyan\"))\r\n",
        "        sys.exit()\r\n",
        "    \r\n",
        "    df_1_subtract_2 = df1.subtract(df2)\r\n",
        "    df_2_subtract_1 = df2.subtract(df1)\r\n",
        " \r\n",
        "    row_difference_df1_count = df_1_subtract_2.count()\r\n",
        "    row_difference_df2_count = df_2_subtract_1.count()\r\n",
        "    \r\n",
        "    if row_difference_df1_count == 0 and row_difference_df2_count == 0:\r\n",
        "        return logger.info(\"The data rows are identical\")\r\n",
        "    else:\r\n",
        "        print(f\"\"\"There are {row_difference_df1_count} rows in df1 which are not present \r\n",
        "        or different in df2 and There are {row_difference_df2_count} rows in df2 which are not \r\n",
        "        present or different in df1.\"\"\")\r\n",
        "        if pk == [\"rownum\"]:\r\n",
        "            logger.info(\"A Primary Key column name has NOT been provided. Generating a ROWNUM \\\r\n",
        "                        column and using it to compare the data rows\")\r\n",
        "            df_1_subtract_2 = df_1_subtract_2.withColumn(\"rownum\", \r\n",
        "                                                         F.row_number()\\\r\n",
        "                                                         .over(Window()\\\r\n",
        "                                                         .orderBy(F.lit('1'))))\r\n",
        "            df_2_subtract_1 = df_2_subtract_1.withColumn(\"rownum\", \r\n",
        "                                                         F.row_number()\\\r\n",
        "                                                         .over(Window()\\\r\n",
        "                                                         .orderBy(F.lit('1'))))\r\n",
        "        else:\r\n",
        "            print(f\"The provided Primary Key columns is: {pk}\")\r\n",
        "\r\n",
        "    pdf1 = df_1_subtract_2.toPandas()\r\n",
        "    pdf2 = df_2_subtract_1.toPandas()\r\n",
        "    \r\n",
        "    pdf_combined = pd.concat([pdf1.set_index(pk), pdf2.set_index(pk)], axis=\"columns\", \r\n",
        "                             keys=[\"DF1\",\"DF2\"], sort=False)    \r\n",
        "    pdf_result = pdf_combined.swaplevel(axis=\"columns\")[set([y for x,y in pdf_combined.columns[:]])]\r\n",
        "    return pdf_result.head(noOfOutputRecords).style.apply(colorCodeDF, \r\n",
        "                                                          axis=None).highlight_null(\"cyan\")\r\n"
      ],
      "outputs": [],
      "execution_count": null,
      "metadata": {}
    }
  ],
  "metadata": {
    "language_info": {
      "name": "python"
    },
    "kernelspec": {
      "name": "synapse_pyspark",
      "display_name": "python"
    },
    "save_output": true,
    "synapse_widget": {
      "version": "0.1",
      "state": {}
    }
  },
  "nbformat": 4,
  "nbformat_minor": 2
}