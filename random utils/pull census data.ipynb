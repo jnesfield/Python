{
  "cells": [
    {
      "cell_type": "markdown",
      "source": [
        "### Base census data pull\r\n",
        "\r\n",
        "by james nesfield\r\n",
        "\r\n",
        "date 5/31/2023\r\n",
        "\r\n",
        "purpose: pull census data and park in a spark table\r\n",
        "\r\n",
        "pull the acs for 2021 (last year published to date)\r\n",
        "\r\n",
        "we are using the acs 5 year estimates here which projects out to 2026 which is probably more valid than the 1 year which only projects out to 2022...\r\n",
        "\r\n",
        "variables:\r\n",
        "- https://api.census.gov/data/2021/acs/acs1/variables.html\r\n",
        "- https://api.census.gov/data/2021/acs/acs5/variables.html\r\n",
        "\r\n",
        "variables to pull\r\n",
        "- listed below in list of list definition with name in 0 element, and variable in 1st element\r\n",
        "\r\n",
        "api call example \r\n",
        "```\r\n",
        "'''\r\n",
        "https://api.census.gov/data/2021/acs/acs5?get=B19013_001E,B01001_002E,B01001_003E,B01001_004E,B01001_005E,B01001_006E,B01001_007E,B01001_008E,B01001_009E,B01001_010E,B01001_011E,B01001_012E,B01001_013E,B01001_014E,B01001_015E,B01001_016E,B01001_017E,B01001_018E,B01001_019E,B01001_020E,B01001_021E,B01001_022E,B01001_023E,B01001_024E,B01001_025E&for=zip%20code%20tabulation%20area:*\r\n",
        "\r\n",
        "'''\r\n",
        "```"
      ],
      "metadata": {
        "nteract": {
          "transient": {
            "deleting": false
          }
        }
      }
    },
    {
      "cell_type": "markdown",
      "source": [
        "## prep variables and api call string"
      ],
      "metadata": {
        "nteract": {
          "transient": {
            "deleting": false
          }
        }
      }
    },
    {
      "cell_type": "code",
      "source": [
        "#prep variables and api call:\r\n",
        "\r\n",
        "census_variables = ([['median_income','B19013_001E'],\r\n",
        "                     ['male_under_5','B01001_003E'],\r\n",
        "                     ['male_5_to_9','B01001_004E'],\r\n",
        "                     ['male_10_to_14','B01001_005E'],\r\n",
        "                     ['male_15_to_17','B01001_006E'],\r\n",
        "                     ['male_18_to_19','B01001_007E'],\r\n",
        "                     ['male_20','B01001_008E'],\r\n",
        "                     ['male_21','B01001_009E'],\r\n",
        "                     ['male_22_to_24','B01001_010E'],\r\n",
        "                     ['male_25_to_29','B01001_011E'],\r\n",
        "                     ['male_30_to_34','B01001_012E'],\r\n",
        "                     ['male_35_to_39','B01001_013E'],\r\n",
        "                     ['male_40_to_44','B01001_014E'],\r\n",
        "                     ['male_45_to_49','B01001_015E'],\r\n",
        "                     ['male_50_to_54','B01001_016E'],\r\n",
        "                     ['male_55_to_59','B01001_017E'],\r\n",
        "                     ['male_60_to_61','B01001_018E'],\r\n",
        "                     ['male_62_to_64','B01001_019E'],\r\n",
        "                     ['male_65_to_66','B01001_020E'],\r\n",
        "                     ['male_67_to_69','B01001_021E'],\r\n",
        "                     ['male_70_to_74','B01001_022E'],\r\n",
        "                     ['male_75_to_79','B01001_023E'],\r\n",
        "                     ['male_80_to_84','B01001_024E'],\r\n",
        "                     ['male_85_and_over','B01001_025E'],\r\n",
        "                     ['female_under_5','B01001_027E'],\r\n",
        "                     ['female_5_to_9','B01001_028E'],\r\n",
        "                     ['female_10_to_14','B01001_029E'],\r\n",
        "                     ['female_15_to_17','B01001_030E'],\r\n",
        "                     ['female_18_to_19','B01001_031E'],\r\n",
        "                     ['female_20','B01001_032E'],\r\n",
        "                     ['female_21','B01001_033E'],\r\n",
        "                     ['female_22_to_24','B01001_034E'],\r\n",
        "                     ['female_25_to_29','B01001_035E'],\r\n",
        "                     ['female_30_to_34','B01001_036E'],\r\n",
        "                     ['female_35_to_39','B01001_037E'],\r\n",
        "                     ['female_40_to_44','B01001_038E'],\r\n",
        "                     ['female_45_to_49','B01001_039E'],\r\n",
        "                     ['female_50_to_54','B01001_040E'],\r\n",
        "                     ['female_55_to_59','B01001_041E'],\r\n",
        "                     ['female_60_to_61','B01001_042E'],\r\n",
        "                     ['female_62_to_64','B01001_043E'],\r\n",
        "                     ['female_65_to_66','B01001_044E'],\r\n",
        "                     ['female_67_to_69','B01001_045E'],\r\n",
        "                     ['female_70_to_74','B01001_046E'],\r\n",
        "                     ['female_75_to_79','B01001_047E'],\r\n",
        "                     ['female_80_to_84','B01001_048E'],\r\n",
        "                     ['female_85_and_over','B01001_049E']])\r\n",
        "\r\n",
        "census_variable_filter = ''\r\n",
        "\r\n",
        "for variable in census_variables:\r\n",
        "    census_variable_filter += (variable[1] + ',')\r\n",
        "\r\n",
        "print(census_variable_filter)\r\n",
        "\r\n",
        "\r\n",
        "api_string = f'https://api.census.gov/data/2021/acs/acs5?get={census_variable_filter[:-1]}&for=zip%20code%20tabulation%20area:*'\r\n",
        "\r\n",
        "'''\r\n",
        "https://api.census.gov/data/2021/acs/acs5?get=B19013_001E,B01001_002E,B01001_003E,B01001_004E,B01001_005E,B01001_006E,B01001_007E,B01001_008E,B01001_009E,B01001_010E,B01001_011E,B01001_012E,B01001_013E,B01001_014E,B01001_015E,B01001_016E,B01001_017E,B01001_018E,B01001_019E,B01001_020E,B01001_021E,B01001_022E,B01001_023E,B01001_024E,B01001_025E&for=zip%20code%20tabulation%20area:*\r\n",
        "\r\n",
        "'''\r\n",
        "\r\n",
        "print(api_string)"
      ],
      "outputs": [
        {
          "output_type": "display_data",
          "data": {
            "application/vnd.livy.statement-meta+json": {
              "spark_pool": "DSETLProd",
              "session_id": "1220",
              "statement_id": 2,
              "state": "finished",
              "livy_statement_state": "available",
              "queued_time": "2023-05-31T17:47:35.7431119Z",
              "session_start_time": "2023-05-31T17:47:35.803587Z",
              "execution_start_time": "2023-05-31T17:52:08.9220319Z",
              "execution_finish_time": "2023-05-31T17:52:08.9223334Z",
              "spark_jobs": null,
              "parent_msg_id": "24ceff29-844f-45a0-b098-d06c3528fd0c"
            },
            "text/plain": "StatementMeta(DSETLProd, 1220, 2, Finished, Available)"
          },
          "metadata": {}
        },
        {
          "output_type": "stream",
          "name": "stdout",
          "text": [
            "B19013_001E,B01001_003E,B01001_004E,B01001_005E,B01001_006E,B01001_007E,B01001_008E,B01001_009E,B01001_010E,B01001_011E,B01001_012E,B01001_013E,B01001_014E,B01001_015E,B01001_016E,B01001_017E,B01001_018E,B01001_019E,B01001_020E,B01001_021E,B01001_022E,B01001_023E,B01001_024E,B01001_025E,B01001_027E,B01001_028E,B01001_029E,B01001_030E,B01001_031E,B01001_032E,B01001_033E,B01001_034E,B01001_035E,B01001_036E,B01001_037E,B01001_038E,B01001_039E,B01001_040E,B01001_041E,B01001_042E,B01001_043E,B01001_044E,B01001_045E,B01001_046E,B01001_047E,B01001_048E,B01001_049E,\nhttps://api.census.gov/data/2021/acs/acs5?get=B19013_001E,B01001_003E,B01001_004E,B01001_005E,B01001_006E,B01001_007E,B01001_008E,B01001_009E,B01001_010E,B01001_011E,B01001_012E,B01001_013E,B01001_014E,B01001_015E,B01001_016E,B01001_017E,B01001_018E,B01001_019E,B01001_020E,B01001_021E,B01001_022E,B01001_023E,B01001_024E,B01001_025E,B01001_027E,B01001_028E,B01001_029E,B01001_030E,B01001_031E,B01001_032E,B01001_033E,B01001_034E,B01001_035E,B01001_036E,B01001_037E,B01001_038E,B01001_039E,B01001_040E,B01001_041E,B01001_042E,B01001_043E,B01001_044E,B01001_045E,B01001_046E,B01001_047E,B01001_048E,B01001_049E&for=zip%20code%20tabulation%20area:*\n"
          ]
        }
      ],
      "execution_count": 16,
      "metadata": {}
    },
    {
      "cell_type": "markdown",
      "source": [
        "## pul data into pandas and clean"
      ],
      "metadata": {
        "nteract": {
          "transient": {
            "deleting": false
          }
        }
      }
    },
    {
      "cell_type": "code",
      "source": [
        "import pandas as pd\r\n",
        "\r\n",
        "pdf_census_data = pd.read_json(path_or_buf=api_string).iloc[1:] \r\n",
        "\r\n",
        "pdf_census_data.head()"
      ],
      "outputs": [
        {
          "output_type": "display_data",
          "data": {
            "application/vnd.livy.statement-meta+json": {
              "spark_pool": "DSETLProd",
              "session_id": "1220",
              "statement_id": 3,
              "state": "finished",
              "livy_statement_state": "available",
              "queued_time": "2023-05-31T17:47:35.8711135Z",
              "session_start_time": null,
              "execution_start_time": "2023-05-31T17:52:11.2957229Z",
              "execution_finish_time": "2023-05-31T17:52:29.6208596Z",
              "spark_jobs": null,
              "parent_msg_id": "7f42ec13-9195-4143-81dd-736dd51afd7b"
            },
            "text/plain": "StatementMeta(DSETLProd, 1220, 3, Finished, Available)"
          },
          "metadata": {}
        },
        {
          "output_type": "execute_result",
          "execution_count": 7,
          "data": {
            "text/plain": "      0    1     2     3    4    5    6    7    8     9   ...    38   39  \\\n1  15292  331   456   533  311  242  145   38  386   589  ...   492  401   \n2  18716  639   941   998  681  471  309  346  579  1275  ...  1301  591   \n3  16789  944  1087  1531  999  730  339  302  956  1699  ...  1582  827   \n4  18835  113   117   138  107   63  124   20  119   150  ...   171  109   \n5  21239  424   725   637  493  322  124  142  614   954  ...   805  439   \n\n     40   41    42    43    44   45   46     47  \n1   408  214   373   444   344  233  216  00601  \n2  1200  536   632  1189   791  446  508  00602  \n3  1177  620  1026  1736  1058  945  691  00603  \n4   158  128   126   139    73  102  157  00606  \n5   667  398   454   782   537  516  323  00610  \n\n[5 rows x 48 columns]",
            "text/html": "<div>\n<style scoped>\n    .dataframe tbody tr th:only-of-type {\n        vertical-align: middle;\n    }\n\n    .dataframe tbody tr th {\n        vertical-align: top;\n    }\n\n    .dataframe thead th {\n        text-align: right;\n    }\n</style>\n<table border=\"1\" class=\"dataframe\">\n  <thead>\n    <tr style=\"text-align: right;\">\n      <th></th>\n      <th>0</th>\n      <th>1</th>\n      <th>2</th>\n      <th>3</th>\n      <th>4</th>\n      <th>5</th>\n      <th>6</th>\n      <th>7</th>\n      <th>8</th>\n      <th>9</th>\n      <th>...</th>\n      <th>38</th>\n      <th>39</th>\n      <th>40</th>\n      <th>41</th>\n      <th>42</th>\n      <th>43</th>\n      <th>44</th>\n      <th>45</th>\n      <th>46</th>\n      <th>47</th>\n    </tr>\n  </thead>\n  <tbody>\n    <tr>\n      <th>1</th>\n      <td>15292</td>\n      <td>331</td>\n      <td>456</td>\n      <td>533</td>\n      <td>311</td>\n      <td>242</td>\n      <td>145</td>\n      <td>38</td>\n      <td>386</td>\n      <td>589</td>\n      <td>...</td>\n      <td>492</td>\n      <td>401</td>\n      <td>408</td>\n      <td>214</td>\n      <td>373</td>\n      <td>444</td>\n      <td>344</td>\n      <td>233</td>\n      <td>216</td>\n      <td>00601</td>\n    </tr>\n    <tr>\n      <th>2</th>\n      <td>18716</td>\n      <td>639</td>\n      <td>941</td>\n      <td>998</td>\n      <td>681</td>\n      <td>471</td>\n      <td>309</td>\n      <td>346</td>\n      <td>579</td>\n      <td>1275</td>\n      <td>...</td>\n      <td>1301</td>\n      <td>591</td>\n      <td>1200</td>\n      <td>536</td>\n      <td>632</td>\n      <td>1189</td>\n      <td>791</td>\n      <td>446</td>\n      <td>508</td>\n      <td>00602</td>\n    </tr>\n    <tr>\n      <th>3</th>\n      <td>16789</td>\n      <td>944</td>\n      <td>1087</td>\n      <td>1531</td>\n      <td>999</td>\n      <td>730</td>\n      <td>339</td>\n      <td>302</td>\n      <td>956</td>\n      <td>1699</td>\n      <td>...</td>\n      <td>1582</td>\n      <td>827</td>\n      <td>1177</td>\n      <td>620</td>\n      <td>1026</td>\n      <td>1736</td>\n      <td>1058</td>\n      <td>945</td>\n      <td>691</td>\n      <td>00603</td>\n    </tr>\n    <tr>\n      <th>4</th>\n      <td>18835</td>\n      <td>113</td>\n      <td>117</td>\n      <td>138</td>\n      <td>107</td>\n      <td>63</td>\n      <td>124</td>\n      <td>20</td>\n      <td>119</td>\n      <td>150</td>\n      <td>...</td>\n      <td>171</td>\n      <td>109</td>\n      <td>158</td>\n      <td>128</td>\n      <td>126</td>\n      <td>139</td>\n      <td>73</td>\n      <td>102</td>\n      <td>157</td>\n      <td>00606</td>\n    </tr>\n    <tr>\n      <th>5</th>\n      <td>21239</td>\n      <td>424</td>\n      <td>725</td>\n      <td>637</td>\n      <td>493</td>\n      <td>322</td>\n      <td>124</td>\n      <td>142</td>\n      <td>614</td>\n      <td>954</td>\n      <td>...</td>\n      <td>805</td>\n      <td>439</td>\n      <td>667</td>\n      <td>398</td>\n      <td>454</td>\n      <td>782</td>\n      <td>537</td>\n      <td>516</td>\n      <td>323</td>\n      <td>00610</td>\n    </tr>\n  </tbody>\n</table>\n<p>5 rows × 48 columns</p>\n</div>"
          },
          "metadata": {}
        }
      ],
      "execution_count": 17,
      "metadata": {
        "jupyter": {
          "source_hidden": false,
          "outputs_hidden": false
        },
        "nteract": {
          "transient": {
            "deleting": false
          }
        }
      }
    },
    {
      "cell_type": "code",
      "source": [
        "# rename census_variables\r\n",
        "variable_list = [x[0] for x in census_variables]\r\n",
        "\r\n",
        "variable_list.append('zip_code')\r\n",
        "\r\n",
        "pdf_census_data2 = pdf_census_data.copy()\r\n",
        "\r\n",
        "pdf_census_data2.columns =  variable_list\r\n",
        "\r\n",
        "pdf_census_data2.head()"
      ],
      "outputs": [
        {
          "output_type": "display_data",
          "data": {
            "application/vnd.livy.statement-meta+json": {
              "spark_pool": "DSETLProd",
              "session_id": "1220",
              "statement_id": 4,
              "state": "finished",
              "livy_statement_state": "available",
              "queued_time": "2023-05-31T17:47:35.9669986Z",
              "session_start_time": null,
              "execution_start_time": "2023-05-31T17:52:29.8183371Z",
              "execution_finish_time": "2023-05-31T17:52:30.0587223Z",
              "spark_jobs": null,
              "parent_msg_id": "058c0d71-f791-4335-a35f-a67de6a131b6"
            },
            "text/plain": "StatementMeta(DSETLProd, 1220, 4, Finished, Available)"
          },
          "metadata": {}
        },
        {
          "output_type": "execute_result",
          "execution_count": 9,
          "data": {
            "text/plain": "  median_income male_under_5 male_5_to_9 male_10_to_14 male_15_to_17  \\\n1         15292          331         456           533           311   \n2         18716          639         941           998           681   \n3         16789          944        1087          1531           999   \n4         18835          113         117           138           107   \n5         21239          424         725           637           493   \n\n  male_18_to_19 male_20 male_21 male_22_to_24 male_25_to_29  ...  \\\n1           242     145      38           386           589  ...   \n2           471     309     346           579          1275  ...   \n3           730     339     302           956          1699  ...   \n4            63     124      20           119           150  ...   \n5           322     124     142           614           954  ...   \n\n  female_55_to_59 female_60_to_61 female_62_to_64 female_65_to_66  \\\n1             492             401             408             214   \n2            1301             591            1200             536   \n3            1582             827            1177             620   \n4             171             109             158             128   \n5             805             439             667             398   \n\n  female_67_to_69 female_70_to_74 female_75_to_79 female_80_to_84  \\\n1             373             444             344             233   \n2             632            1189             791             446   \n3            1026            1736            1058             945   \n4             126             139              73             102   \n5             454             782             537             516   \n\n  female_85_and_over zip_code  \n1                216    00601  \n2                508    00602  \n3                691    00603  \n4                157    00606  \n5                323    00610  \n\n[5 rows x 48 columns]",
            "text/html": "<div>\n<style scoped>\n    .dataframe tbody tr th:only-of-type {\n        vertical-align: middle;\n    }\n\n    .dataframe tbody tr th {\n        vertical-align: top;\n    }\n\n    .dataframe thead th {\n        text-align: right;\n    }\n</style>\n<table border=\"1\" class=\"dataframe\">\n  <thead>\n    <tr style=\"text-align: right;\">\n      <th></th>\n      <th>median_income</th>\n      <th>male_under_5</th>\n      <th>male_5_to_9</th>\n      <th>male_10_to_14</th>\n      <th>male_15_to_17</th>\n      <th>male_18_to_19</th>\n      <th>male_20</th>\n      <th>male_21</th>\n      <th>male_22_to_24</th>\n      <th>male_25_to_29</th>\n      <th>...</th>\n      <th>female_55_to_59</th>\n      <th>female_60_to_61</th>\n      <th>female_62_to_64</th>\n      <th>female_65_to_66</th>\n      <th>female_67_to_69</th>\n      <th>female_70_to_74</th>\n      <th>female_75_to_79</th>\n      <th>female_80_to_84</th>\n      <th>female_85_and_over</th>\n      <th>zip_code</th>\n    </tr>\n  </thead>\n  <tbody>\n    <tr>\n      <th>1</th>\n      <td>15292</td>\n      <td>331</td>\n      <td>456</td>\n      <td>533</td>\n      <td>311</td>\n      <td>242</td>\n      <td>145</td>\n      <td>38</td>\n      <td>386</td>\n      <td>589</td>\n      <td>...</td>\n      <td>492</td>\n      <td>401</td>\n      <td>408</td>\n      <td>214</td>\n      <td>373</td>\n      <td>444</td>\n      <td>344</td>\n      <td>233</td>\n      <td>216</td>\n      <td>00601</td>\n    </tr>\n    <tr>\n      <th>2</th>\n      <td>18716</td>\n      <td>639</td>\n      <td>941</td>\n      <td>998</td>\n      <td>681</td>\n      <td>471</td>\n      <td>309</td>\n      <td>346</td>\n      <td>579</td>\n      <td>1275</td>\n      <td>...</td>\n      <td>1301</td>\n      <td>591</td>\n      <td>1200</td>\n      <td>536</td>\n      <td>632</td>\n      <td>1189</td>\n      <td>791</td>\n      <td>446</td>\n      <td>508</td>\n      <td>00602</td>\n    </tr>\n    <tr>\n      <th>3</th>\n      <td>16789</td>\n      <td>944</td>\n      <td>1087</td>\n      <td>1531</td>\n      <td>999</td>\n      <td>730</td>\n      <td>339</td>\n      <td>302</td>\n      <td>956</td>\n      <td>1699</td>\n      <td>...</td>\n      <td>1582</td>\n      <td>827</td>\n      <td>1177</td>\n      <td>620</td>\n      <td>1026</td>\n      <td>1736</td>\n      <td>1058</td>\n      <td>945</td>\n      <td>691</td>\n      <td>00603</td>\n    </tr>\n    <tr>\n      <th>4</th>\n      <td>18835</td>\n      <td>113</td>\n      <td>117</td>\n      <td>138</td>\n      <td>107</td>\n      <td>63</td>\n      <td>124</td>\n      <td>20</td>\n      <td>119</td>\n      <td>150</td>\n      <td>...</td>\n      <td>171</td>\n      <td>109</td>\n      <td>158</td>\n      <td>128</td>\n      <td>126</td>\n      <td>139</td>\n      <td>73</td>\n      <td>102</td>\n      <td>157</td>\n      <td>00606</td>\n    </tr>\n    <tr>\n      <th>5</th>\n      <td>21239</td>\n      <td>424</td>\n      <td>725</td>\n      <td>637</td>\n      <td>493</td>\n      <td>322</td>\n      <td>124</td>\n      <td>142</td>\n      <td>614</td>\n      <td>954</td>\n      <td>...</td>\n      <td>805</td>\n      <td>439</td>\n      <td>667</td>\n      <td>398</td>\n      <td>454</td>\n      <td>782</td>\n      <td>537</td>\n      <td>516</td>\n      <td>323</td>\n      <td>00610</td>\n    </tr>\n  </tbody>\n</table>\n<p>5 rows × 48 columns</p>\n</div>"
          },
          "metadata": {}
        }
      ],
      "execution_count": 18,
      "metadata": {
        "jupyter": {
          "source_hidden": false,
          "outputs_hidden": false
        },
        "nteract": {
          "transient": {
            "deleting": false
          }
        }
      }
    },
    {
      "cell_type": "markdown",
      "source": [
        "# get zip code data to build d_zip table\r\n",
        "\r\n",
        "https://simplemaps.com/data/us-zips\r\n",
        "\r\n",
        "the actual link is: https://simplemaps.com/static/data/us-zips/1.82/basic/simplemaps_uszips_basicv1.82.zip"
      ],
      "metadata": {
        "nteract": {
          "transient": {
            "deleting": false
          }
        }
      }
    },
    {
      "cell_type": "code",
      "source": [
        "%%sh\r\n",
        "pwd"
      ],
      "outputs": [
        {
          "output_type": "display_data",
          "data": {
            "application/vnd.livy.statement-meta+json": {
              "spark_pool": "DSETLProd",
              "session_id": "1220",
              "statement_id": 8,
              "state": "finished",
              "livy_statement_state": "available",
              "queued_time": "2023-05-31T17:47:36.4331062Z",
              "session_start_time": null,
              "execution_start_time": "2023-05-31T17:53:26.9804845Z",
              "execution_finish_time": "2023-05-31T17:53:27.2153374Z",
              "spark_jobs": null,
              "parent_msg_id": "e1f80a78-d218-43e9-a6fd-63d5e28bdedc"
            },
            "text/plain": "StatementMeta(DSETLProd, 1220, 8, Finished, Available)"
          },
          "metadata": {}
        },
        {
          "output_type": "stream",
          "name": "stdout",
          "text": [
            "/mnt/var/hadoop/tmp/nm-local-dir/usercache/trusted-service-user/appcache/application_1685553579473_0002/container_1685553579473_0002_01_000001\n"
          ]
        }
      ],
      "execution_count": 22,
      "metadata": {
        "jupyter": {
          "source_hidden": false,
          "outputs_hidden": false
        },
        "nteract": {
          "transient": {
            "deleting": false
          }
        }
      }
    },
    {
      "cell_type": "code",
      "source": [
        "%%sh\r\n",
        "ls"
      ],
      "outputs": [
        {
          "output_type": "display_data",
          "data": {
            "application/vnd.livy.statement-meta+json": {
              "spark_pool": "DSETLProd",
              "session_id": "1220",
              "statement_id": 9,
              "state": "finished",
              "livy_statement_state": "available",
              "queued_time": "2023-05-31T17:47:36.5269213Z",
              "session_start_time": null,
              "execution_start_time": "2023-05-31T17:53:27.3973581Z",
              "execution_finish_time": "2023-05-31T17:53:27.5936951Z",
              "spark_jobs": null,
              "parent_msg_id": "6f14e36f-4f28-4ed2-b5ea-8f712d9beaeb"
            },
            "text/plain": "StatementMeta(DSETLProd, 1220, 9, Finished, Available)"
          },
          "metadata": {}
        },
        {
          "output_type": "stream",
          "name": "stdout",
          "text": [
            "__spark_conf__\ncontainer_tokens\ndefault_container_executor.sh\ndefault_container_executor_session.sh\nlaunch_container.sh\nsparkr\ntmp\n"
          ]
        }
      ],
      "execution_count": 23,
      "metadata": {
        "jupyter": {
          "source_hidden": false,
          "outputs_hidden": false
        },
        "nteract": {
          "transient": {
            "deleting": false
          }
        }
      }
    },
    {
      "cell_type": "code",
      "source": [
        "#download to ./tmp/ the files\r\n",
        "import requests, zipfile, io\r\n",
        "zip_file_url = 'https://simplemaps.com/static/data/us-zips/1.82/basic/simplemaps_uszips_basicv1.82.zip'\r\n",
        "\r\n",
        "r = requests.get(zip_file_url)\r\n",
        "z = zipfile.ZipFile(io.BytesIO(r.content))\r\n",
        "z.extractall(\"./tmp/\")"
      ],
      "outputs": [
        {
          "output_type": "display_data",
          "data": {
            "application/vnd.livy.statement-meta+json": {
              "spark_pool": "DSETLProd",
              "session_id": "1220",
              "statement_id": 10,
              "state": "finished",
              "livy_statement_state": "available",
              "queued_time": "2023-05-31T17:47:36.6169776Z",
              "session_start_time": null,
              "execution_start_time": "2023-05-31T17:53:27.803148Z",
              "execution_finish_time": "2023-05-31T17:53:29.8278187Z",
              "spark_jobs": null,
              "parent_msg_id": "4032bd6d-7d41-4f1f-864b-85006a6c3c11"
            },
            "text/plain": "StatementMeta(DSETLProd, 1220, 10, Finished, Available)"
          },
          "metadata": {}
        }
      ],
      "execution_count": 24,
      "metadata": {
        "jupyter": {
          "source_hidden": false,
          "outputs_hidden": false
        },
        "nteract": {
          "transient": {
            "deleting": false
          }
        }
      }
    },
    {
      "cell_type": "code",
      "source": [
        "%%sh\r\n",
        "cd ./tmp/\r\n",
        "\r\n",
        "ls"
      ],
      "outputs": [
        {
          "output_type": "display_data",
          "data": {
            "application/vnd.livy.statement-meta+json": {
              "spark_pool": "DSETLProd",
              "session_id": "1220",
              "statement_id": 11,
              "state": "finished",
              "livy_statement_state": "available",
              "queued_time": "2023-05-31T17:47:36.7045925Z",
              "session_start_time": null,
              "execution_start_time": "2023-05-31T17:53:29.9917001Z",
              "execution_finish_time": "2023-05-31T17:53:30.1872798Z",
              "spark_jobs": null,
              "parent_msg_id": "8be5c225-6701-41d6-a94b-fe799cfacf18"
            },
            "text/plain": "StatementMeta(DSETLProd, 1220, 11, Finished, Available)"
          },
          "metadata": {}
        },
        {
          "output_type": "stream",
          "name": "stdout",
          "text": [
            "5236932648600253191\n72362814-fa62-4296-9d43-9242fff6902a_resources\nliblz4-java-3880462631629198376.so\nliblz4-java-3880462631629198376.so.lck\nlicense.txt\nrsc-tmp2047501945520742175\nspark9221143143020192866\ntmp-6080161181147902376openssl\nuszips.csv\nuszips.xlsx\n"
          ]
        }
      ],
      "execution_count": 25,
      "metadata": {
        "jupyter": {
          "source_hidden": false,
          "outputs_hidden": false
        },
        "nteract": {
          "transient": {
            "deleting": false
          }
        }
      }
    },
    {
      "cell_type": "code",
      "source": [
        "import pandas as pd\r\n",
        "\r\n",
        "pdf_zipdata = pd.read_excel('./tmp/uszips.xlsx')"
      ],
      "outputs": [
        {
          "output_type": "display_data",
          "data": {
            "application/vnd.livy.statement-meta+json": {
              "spark_pool": "DSETLProd",
              "session_id": "1220",
              "statement_id": 12,
              "state": "finished",
              "livy_statement_state": "available",
              "queued_time": "2023-05-31T17:47:36.8190805Z",
              "session_start_time": null,
              "execution_start_time": "2023-05-31T17:53:30.3609342Z",
              "execution_finish_time": "2023-05-31T17:53:39.3276329Z",
              "spark_jobs": null,
              "parent_msg_id": "bc947f1a-7c96-4807-9a59-26846d744524"
            },
            "text/plain": "StatementMeta(DSETLProd, 1220, 12, Finished, Available)"
          },
          "metadata": {}
        }
      ],
      "execution_count": 26,
      "metadata": {
        "jupyter": {
          "source_hidden": false,
          "outputs_hidden": false
        },
        "nteract": {
          "transient": {
            "deleting": false
          }
        }
      }
    },
    {
      "cell_type": "code",
      "source": [
        "pdf_zipdata.head()"
      ],
      "outputs": [
        {
          "output_type": "display_data",
          "data": {
            "application/vnd.livy.statement-meta+json": {
              "spark_pool": "DSETLProd",
              "session_id": "1220",
              "statement_id": 13,
              "state": "finished",
              "livy_statement_state": "available",
              "queued_time": "2023-05-31T17:47:36.9152886Z",
              "session_start_time": null,
              "execution_start_time": "2023-05-31T17:53:39.5176997Z",
              "execution_finish_time": "2023-05-31T17:53:39.704294Z",
              "spark_jobs": null,
              "parent_msg_id": "bd1cc289-ec04-4397-b27c-9e204b3fddf1"
            },
            "text/plain": "StatementMeta(DSETLProd, 1220, 13, Finished, Available)"
          },
          "metadata": {}
        },
        {
          "output_type": "execute_result",
          "execution_count": 27,
          "data": {
            "text/plain": "   zip       lat       lng       city state_id   state_name  zcta  \\\n0  601  18.18027 -66.75266   Adjuntas       PR  Puerto Rico  True   \n1  602  18.36075 -67.17541     Aguada       PR  Puerto Rico  True   \n2  603  18.45744 -67.12225  Aguadilla       PR  Puerto Rico  True   \n3  606  18.16585 -66.93716    Maricao       PR  Puerto Rico  True   \n4  610  18.29110 -67.12243     Anasco       PR  Puerto Rico  True   \n\n   parent_zcta  population  density  county_fips county_name  \\\n0          NaN     17126.0    102.6        72001    Adjuntas   \n1          NaN     37895.0    482.5        72003      Aguada   \n2          NaN     49136.0    552.4        72005   Aguadilla   \n3          NaN      5751.0     50.1        72093     Maricao   \n4          NaN     26153.0    272.1        72011      Añasco   \n\n                                      county_weights  \\\n0                    {\"72001\": 98.73, \"72141\": 1.27}   \n1                                     {\"72003\": 100}   \n2                    {\"72005\": 99.76, \"72099\": 0.24}   \n3    {\"72093\": 82.26, \"72153\": 11.68, \"72121\": 6.06}   \n4  {\"72011\": 96.71, \"72099\": 2.81, \"72083\": 0.37,...   \n\n                county_names_all          county_fips_all  imprecise  \\\n0                Adjuntas|Utuado              72001|72141      False   \n1                         Aguada                    72003      False   \n2                 Aguadilla|Moca              72005|72099      False   \n3    Maricao|Yauco|Sabana Grande        72093|72153|72121      False   \n4  Añasco|Moca|Las Marías|Aguada  72011|72099|72083|72003      False   \n\n   military             timezone  \n0     False  America/Puerto_Rico  \n1     False  America/Puerto_Rico  \n2     False  America/Puerto_Rico  \n3     False  America/Puerto_Rico  \n4     False  America/Puerto_Rico  ",
            "text/html": "<div>\n<style scoped>\n    .dataframe tbody tr th:only-of-type {\n        vertical-align: middle;\n    }\n\n    .dataframe tbody tr th {\n        vertical-align: top;\n    }\n\n    .dataframe thead th {\n        text-align: right;\n    }\n</style>\n<table border=\"1\" class=\"dataframe\">\n  <thead>\n    <tr style=\"text-align: right;\">\n      <th></th>\n      <th>zip</th>\n      <th>lat</th>\n      <th>lng</th>\n      <th>city</th>\n      <th>state_id</th>\n      <th>state_name</th>\n      <th>zcta</th>\n      <th>parent_zcta</th>\n      <th>population</th>\n      <th>density</th>\n      <th>county_fips</th>\n      <th>county_name</th>\n      <th>county_weights</th>\n      <th>county_names_all</th>\n      <th>county_fips_all</th>\n      <th>imprecise</th>\n      <th>military</th>\n      <th>timezone</th>\n    </tr>\n  </thead>\n  <tbody>\n    <tr>\n      <th>0</th>\n      <td>601</td>\n      <td>18.18027</td>\n      <td>-66.75266</td>\n      <td>Adjuntas</td>\n      <td>PR</td>\n      <td>Puerto Rico</td>\n      <td>True</td>\n      <td>NaN</td>\n      <td>17126.0</td>\n      <td>102.6</td>\n      <td>72001</td>\n      <td>Adjuntas</td>\n      <td>{\"72001\": 98.73, \"72141\": 1.27}</td>\n      <td>Adjuntas|Utuado</td>\n      <td>72001|72141</td>\n      <td>False</td>\n      <td>False</td>\n      <td>America/Puerto_Rico</td>\n    </tr>\n    <tr>\n      <th>1</th>\n      <td>602</td>\n      <td>18.36075</td>\n      <td>-67.17541</td>\n      <td>Aguada</td>\n      <td>PR</td>\n      <td>Puerto Rico</td>\n      <td>True</td>\n      <td>NaN</td>\n      <td>37895.0</td>\n      <td>482.5</td>\n      <td>72003</td>\n      <td>Aguada</td>\n      <td>{\"72003\": 100}</td>\n      <td>Aguada</td>\n      <td>72003</td>\n      <td>False</td>\n      <td>False</td>\n      <td>America/Puerto_Rico</td>\n    </tr>\n    <tr>\n      <th>2</th>\n      <td>603</td>\n      <td>18.45744</td>\n      <td>-67.12225</td>\n      <td>Aguadilla</td>\n      <td>PR</td>\n      <td>Puerto Rico</td>\n      <td>True</td>\n      <td>NaN</td>\n      <td>49136.0</td>\n      <td>552.4</td>\n      <td>72005</td>\n      <td>Aguadilla</td>\n      <td>{\"72005\": 99.76, \"72099\": 0.24}</td>\n      <td>Aguadilla|Moca</td>\n      <td>72005|72099</td>\n      <td>False</td>\n      <td>False</td>\n      <td>America/Puerto_Rico</td>\n    </tr>\n    <tr>\n      <th>3</th>\n      <td>606</td>\n      <td>18.16585</td>\n      <td>-66.93716</td>\n      <td>Maricao</td>\n      <td>PR</td>\n      <td>Puerto Rico</td>\n      <td>True</td>\n      <td>NaN</td>\n      <td>5751.0</td>\n      <td>50.1</td>\n      <td>72093</td>\n      <td>Maricao</td>\n      <td>{\"72093\": 82.26, \"72153\": 11.68, \"72121\": 6.06}</td>\n      <td>Maricao|Yauco|Sabana Grande</td>\n      <td>72093|72153|72121</td>\n      <td>False</td>\n      <td>False</td>\n      <td>America/Puerto_Rico</td>\n    </tr>\n    <tr>\n      <th>4</th>\n      <td>610</td>\n      <td>18.29110</td>\n      <td>-67.12243</td>\n      <td>Anasco</td>\n      <td>PR</td>\n      <td>Puerto Rico</td>\n      <td>True</td>\n      <td>NaN</td>\n      <td>26153.0</td>\n      <td>272.1</td>\n      <td>72011</td>\n      <td>Añasco</td>\n      <td>{\"72011\": 96.71, \"72099\": 2.81, \"72083\": 0.37,...</td>\n      <td>Añasco|Moca|Las Marías|Aguada</td>\n      <td>72011|72099|72083|72003</td>\n      <td>False</td>\n      <td>False</td>\n      <td>America/Puerto_Rico</td>\n    </tr>\n  </tbody>\n</table>\n</div>"
          },
          "metadata": {}
        }
      ],
      "execution_count": 27,
      "metadata": {
        "jupyter": {
          "source_hidden": false,
          "outputs_hidden": false
        },
        "nteract": {
          "transient": {
            "deleting": false
          }
        }
      }
    },
    {
      "cell_type": "code",
      "source": [
        "pdf_zipdata['area'] = pdf_zipdata['population'] / pdf_zipdata['density']"
      ],
      "outputs": [
        {
          "output_type": "display_data",
          "data": {
            "application/vnd.livy.statement-meta+json": {
              "spark_pool": "DSETLProd",
              "session_id": "1220",
              "statement_id": 14,
              "state": "finished",
              "livy_statement_state": "available",
              "queued_time": "2023-05-31T17:47:37.0153623Z",
              "session_start_time": null,
              "execution_start_time": "2023-05-31T17:53:39.9027656Z",
              "execution_finish_time": "2023-05-31T17:53:40.087265Z",
              "spark_jobs": null,
              "parent_msg_id": "bef72ee6-54cd-4c55-932e-fad3a3661e03"
            },
            "text/plain": "StatementMeta(DSETLProd, 1220, 14, Finished, Available)"
          },
          "metadata": {}
        }
      ],
      "execution_count": 28,
      "metadata": {
        "jupyter": {
          "source_hidden": false,
          "outputs_hidden": false
        },
        "nteract": {
          "transient": {
            "deleting": false
          }
        }
      }
    },
    {
      "cell_type": "code",
      "source": [
        "pdf_zipdata.head()"
      ],
      "outputs": [
        {
          "output_type": "display_data",
          "data": {
            "application/vnd.livy.statement-meta+json": {
              "spark_pool": "DSETLProd",
              "session_id": "1220",
              "statement_id": 15,
              "state": "finished",
              "livy_statement_state": "available",
              "queued_time": "2023-05-31T17:47:37.1172967Z",
              "session_start_time": null,
              "execution_start_time": "2023-05-31T17:53:40.2402816Z",
              "execution_finish_time": "2023-05-31T17:53:40.4421386Z",
              "spark_jobs": null,
              "parent_msg_id": "2cc13eaf-fe0c-4154-baaa-d43ba3b08ead"
            },
            "text/plain": "StatementMeta(DSETLProd, 1220, 15, Finished, Available)"
          },
          "metadata": {}
        },
        {
          "output_type": "execute_result",
          "execution_count": 31,
          "data": {
            "text/plain": "   zip       lat       lng       city state_id   state_name  zcta  \\\n0  601  18.18027 -66.75266   Adjuntas       PR  Puerto Rico  True   \n1  602  18.36075 -67.17541     Aguada       PR  Puerto Rico  True   \n2  603  18.45744 -67.12225  Aguadilla       PR  Puerto Rico  True   \n3  606  18.16585 -66.93716    Maricao       PR  Puerto Rico  True   \n4  610  18.29110 -67.12243     Anasco       PR  Puerto Rico  True   \n\n   parent_zcta  population  density  county_fips county_name  \\\n0          NaN     17126.0    102.6        72001    Adjuntas   \n1          NaN     37895.0    482.5        72003      Aguada   \n2          NaN     49136.0    552.4        72005   Aguadilla   \n3          NaN      5751.0     50.1        72093     Maricao   \n4          NaN     26153.0    272.1        72011      Añasco   \n\n                                      county_weights  \\\n0                    {\"72001\": 98.73, \"72141\": 1.27}   \n1                                     {\"72003\": 100}   \n2                    {\"72005\": 99.76, \"72099\": 0.24}   \n3    {\"72093\": 82.26, \"72153\": 11.68, \"72121\": 6.06}   \n4  {\"72011\": 96.71, \"72099\": 2.81, \"72083\": 0.37,...   \n\n                county_names_all          county_fips_all  imprecise  \\\n0                Adjuntas|Utuado              72001|72141      False   \n1                         Aguada                    72003      False   \n2                 Aguadilla|Moca              72005|72099      False   \n3    Maricao|Yauco|Sabana Grande        72093|72153|72121      False   \n4  Añasco|Moca|Las Marías|Aguada  72011|72099|72083|72003      False   \n\n   military             timezone        area  \n0     False  America/Puerto_Rico  166.920078  \n1     False  America/Puerto_Rico   78.538860  \n2     False  America/Puerto_Rico   88.950036  \n3     False  America/Puerto_Rico  114.790419  \n4     False  America/Puerto_Rico   96.115399  ",
            "text/html": "<div>\n<style scoped>\n    .dataframe tbody tr th:only-of-type {\n        vertical-align: middle;\n    }\n\n    .dataframe tbody tr th {\n        vertical-align: top;\n    }\n\n    .dataframe thead th {\n        text-align: right;\n    }\n</style>\n<table border=\"1\" class=\"dataframe\">\n  <thead>\n    <tr style=\"text-align: right;\">\n      <th></th>\n      <th>zip</th>\n      <th>lat</th>\n      <th>lng</th>\n      <th>city</th>\n      <th>state_id</th>\n      <th>state_name</th>\n      <th>zcta</th>\n      <th>parent_zcta</th>\n      <th>population</th>\n      <th>density</th>\n      <th>county_fips</th>\n      <th>county_name</th>\n      <th>county_weights</th>\n      <th>county_names_all</th>\n      <th>county_fips_all</th>\n      <th>imprecise</th>\n      <th>military</th>\n      <th>timezone</th>\n      <th>area</th>\n    </tr>\n  </thead>\n  <tbody>\n    <tr>\n      <th>0</th>\n      <td>601</td>\n      <td>18.18027</td>\n      <td>-66.75266</td>\n      <td>Adjuntas</td>\n      <td>PR</td>\n      <td>Puerto Rico</td>\n      <td>True</td>\n      <td>NaN</td>\n      <td>17126.0</td>\n      <td>102.6</td>\n      <td>72001</td>\n      <td>Adjuntas</td>\n      <td>{\"72001\": 98.73, \"72141\": 1.27}</td>\n      <td>Adjuntas|Utuado</td>\n      <td>72001|72141</td>\n      <td>False</td>\n      <td>False</td>\n      <td>America/Puerto_Rico</td>\n      <td>166.920078</td>\n    </tr>\n    <tr>\n      <th>1</th>\n      <td>602</td>\n      <td>18.36075</td>\n      <td>-67.17541</td>\n      <td>Aguada</td>\n      <td>PR</td>\n      <td>Puerto Rico</td>\n      <td>True</td>\n      <td>NaN</td>\n      <td>37895.0</td>\n      <td>482.5</td>\n      <td>72003</td>\n      <td>Aguada</td>\n      <td>{\"72003\": 100}</td>\n      <td>Aguada</td>\n      <td>72003</td>\n      <td>False</td>\n      <td>False</td>\n      <td>America/Puerto_Rico</td>\n      <td>78.538860</td>\n    </tr>\n    <tr>\n      <th>2</th>\n      <td>603</td>\n      <td>18.45744</td>\n      <td>-67.12225</td>\n      <td>Aguadilla</td>\n      <td>PR</td>\n      <td>Puerto Rico</td>\n      <td>True</td>\n      <td>NaN</td>\n      <td>49136.0</td>\n      <td>552.4</td>\n      <td>72005</td>\n      <td>Aguadilla</td>\n      <td>{\"72005\": 99.76, \"72099\": 0.24}</td>\n      <td>Aguadilla|Moca</td>\n      <td>72005|72099</td>\n      <td>False</td>\n      <td>False</td>\n      <td>America/Puerto_Rico</td>\n      <td>88.950036</td>\n    </tr>\n    <tr>\n      <th>3</th>\n      <td>606</td>\n      <td>18.16585</td>\n      <td>-66.93716</td>\n      <td>Maricao</td>\n      <td>PR</td>\n      <td>Puerto Rico</td>\n      <td>True</td>\n      <td>NaN</td>\n      <td>5751.0</td>\n      <td>50.1</td>\n      <td>72093</td>\n      <td>Maricao</td>\n      <td>{\"72093\": 82.26, \"72153\": 11.68, \"72121\": 6.06}</td>\n      <td>Maricao|Yauco|Sabana Grande</td>\n      <td>72093|72153|72121</td>\n      <td>False</td>\n      <td>False</td>\n      <td>America/Puerto_Rico</td>\n      <td>114.790419</td>\n    </tr>\n    <tr>\n      <th>4</th>\n      <td>610</td>\n      <td>18.29110</td>\n      <td>-67.12243</td>\n      <td>Anasco</td>\n      <td>PR</td>\n      <td>Puerto Rico</td>\n      <td>True</td>\n      <td>NaN</td>\n      <td>26153.0</td>\n      <td>272.1</td>\n      <td>72011</td>\n      <td>Añasco</td>\n      <td>{\"72011\": 96.71, \"72099\": 2.81, \"72083\": 0.37,...</td>\n      <td>Añasco|Moca|Las Marías|Aguada</td>\n      <td>72011|72099|72083|72003</td>\n      <td>False</td>\n      <td>False</td>\n      <td>America/Puerto_Rico</td>\n      <td>96.115399</td>\n    </tr>\n  </tbody>\n</table>\n</div>"
          },
          "metadata": {}
        }
      ],
      "execution_count": 29,
      "metadata": {
        "jupyter": {
          "source_hidden": false,
          "outputs_hidden": false
        },
        "nteract": {
          "transient": {
            "deleting": false
          }
        }
      }
    },
    {
      "cell_type": "code",
      "source": [
        "#zip code as 5 digit with leading 0s\r\n",
        "pdf_zipdata['zip'] = pdf_zipdata['zip'].astype(str).str.zfill(5)"
      ],
      "outputs": [
        {
          "output_type": "display_data",
          "data": {
            "application/vnd.livy.statement-meta+json": {
              "spark_pool": "DSETLProd",
              "session_id": "1220",
              "statement_id": 16,
              "state": "finished",
              "livy_statement_state": "available",
              "queued_time": "2023-05-31T17:47:37.1987914Z",
              "session_start_time": null,
              "execution_start_time": "2023-05-31T17:53:40.666931Z",
              "execution_finish_time": "2023-05-31T17:53:40.8877891Z",
              "spark_jobs": null,
              "parent_msg_id": "01b09818-ebee-42d3-bbba-6ef95e075433"
            },
            "text/plain": "StatementMeta(DSETLProd, 1220, 16, Finished, Available)"
          },
          "metadata": {}
        }
      ],
      "execution_count": 30,
      "metadata": {
        "jupyter": {
          "source_hidden": false,
          "outputs_hidden": false
        },
        "nteract": {
          "transient": {
            "deleting": false
          }
        }
      }
    },
    {
      "cell_type": "code",
      "source": [
        "pdf_zipdata.head()"
      ],
      "outputs": [
        {
          "output_type": "display_data",
          "data": {
            "application/vnd.livy.statement-meta+json": {
              "spark_pool": "DSETLProd",
              "session_id": "1220",
              "statement_id": 17,
              "state": "finished",
              "livy_statement_state": "available",
              "queued_time": "2023-05-31T17:47:37.2729279Z",
              "session_start_time": null,
              "execution_start_time": "2023-05-31T17:53:41.0496808Z",
              "execution_finish_time": "2023-05-31T17:53:41.230986Z",
              "spark_jobs": null,
              "parent_msg_id": "d13e8ae1-06d2-4a33-8cf6-2116a2088fcb"
            },
            "text/plain": "StatementMeta(DSETLProd, 1220, 17, Finished, Available)"
          },
          "metadata": {}
        },
        {
          "output_type": "execute_result",
          "execution_count": 35,
          "data": {
            "text/plain": "     zip       lat       lng       city state_id   state_name  zcta  \\\n0  00601  18.18027 -66.75266   Adjuntas       PR  Puerto Rico  True   \n1  00602  18.36075 -67.17541     Aguada       PR  Puerto Rico  True   \n2  00603  18.45744 -67.12225  Aguadilla       PR  Puerto Rico  True   \n3  00606  18.16585 -66.93716    Maricao       PR  Puerto Rico  True   \n4  00610  18.29110 -67.12243     Anasco       PR  Puerto Rico  True   \n\n   parent_zcta  population  density  county_fips county_name  \\\n0          NaN     17126.0    102.6        72001    Adjuntas   \n1          NaN     37895.0    482.5        72003      Aguada   \n2          NaN     49136.0    552.4        72005   Aguadilla   \n3          NaN      5751.0     50.1        72093     Maricao   \n4          NaN     26153.0    272.1        72011      Añasco   \n\n                                      county_weights  \\\n0                    {\"72001\": 98.73, \"72141\": 1.27}   \n1                                     {\"72003\": 100}   \n2                    {\"72005\": 99.76, \"72099\": 0.24}   \n3    {\"72093\": 82.26, \"72153\": 11.68, \"72121\": 6.06}   \n4  {\"72011\": 96.71, \"72099\": 2.81, \"72083\": 0.37,...   \n\n                county_names_all          county_fips_all  imprecise  \\\n0                Adjuntas|Utuado              72001|72141      False   \n1                         Aguada                    72003      False   \n2                 Aguadilla|Moca              72005|72099      False   \n3    Maricao|Yauco|Sabana Grande        72093|72153|72121      False   \n4  Añasco|Moca|Las Marías|Aguada  72011|72099|72083|72003      False   \n\n   military             timezone        area  \n0     False  America/Puerto_Rico  166.920078  \n1     False  America/Puerto_Rico   78.538860  \n2     False  America/Puerto_Rico   88.950036  \n3     False  America/Puerto_Rico  114.790419  \n4     False  America/Puerto_Rico   96.115399  ",
            "text/html": "<div>\n<style scoped>\n    .dataframe tbody tr th:only-of-type {\n        vertical-align: middle;\n    }\n\n    .dataframe tbody tr th {\n        vertical-align: top;\n    }\n\n    .dataframe thead th {\n        text-align: right;\n    }\n</style>\n<table border=\"1\" class=\"dataframe\">\n  <thead>\n    <tr style=\"text-align: right;\">\n      <th></th>\n      <th>zip</th>\n      <th>lat</th>\n      <th>lng</th>\n      <th>city</th>\n      <th>state_id</th>\n      <th>state_name</th>\n      <th>zcta</th>\n      <th>parent_zcta</th>\n      <th>population</th>\n      <th>density</th>\n      <th>county_fips</th>\n      <th>county_name</th>\n      <th>county_weights</th>\n      <th>county_names_all</th>\n      <th>county_fips_all</th>\n      <th>imprecise</th>\n      <th>military</th>\n      <th>timezone</th>\n      <th>area</th>\n    </tr>\n  </thead>\n  <tbody>\n    <tr>\n      <th>0</th>\n      <td>00601</td>\n      <td>18.18027</td>\n      <td>-66.75266</td>\n      <td>Adjuntas</td>\n      <td>PR</td>\n      <td>Puerto Rico</td>\n      <td>True</td>\n      <td>NaN</td>\n      <td>17126.0</td>\n      <td>102.6</td>\n      <td>72001</td>\n      <td>Adjuntas</td>\n      <td>{\"72001\": 98.73, \"72141\": 1.27}</td>\n      <td>Adjuntas|Utuado</td>\n      <td>72001|72141</td>\n      <td>False</td>\n      <td>False</td>\n      <td>America/Puerto_Rico</td>\n      <td>166.920078</td>\n    </tr>\n    <tr>\n      <th>1</th>\n      <td>00602</td>\n      <td>18.36075</td>\n      <td>-67.17541</td>\n      <td>Aguada</td>\n      <td>PR</td>\n      <td>Puerto Rico</td>\n      <td>True</td>\n      <td>NaN</td>\n      <td>37895.0</td>\n      <td>482.5</td>\n      <td>72003</td>\n      <td>Aguada</td>\n      <td>{\"72003\": 100}</td>\n      <td>Aguada</td>\n      <td>72003</td>\n      <td>False</td>\n      <td>False</td>\n      <td>America/Puerto_Rico</td>\n      <td>78.538860</td>\n    </tr>\n    <tr>\n      <th>2</th>\n      <td>00603</td>\n      <td>18.45744</td>\n      <td>-67.12225</td>\n      <td>Aguadilla</td>\n      <td>PR</td>\n      <td>Puerto Rico</td>\n      <td>True</td>\n      <td>NaN</td>\n      <td>49136.0</td>\n      <td>552.4</td>\n      <td>72005</td>\n      <td>Aguadilla</td>\n      <td>{\"72005\": 99.76, \"72099\": 0.24}</td>\n      <td>Aguadilla|Moca</td>\n      <td>72005|72099</td>\n      <td>False</td>\n      <td>False</td>\n      <td>America/Puerto_Rico</td>\n      <td>88.950036</td>\n    </tr>\n    <tr>\n      <th>3</th>\n      <td>00606</td>\n      <td>18.16585</td>\n      <td>-66.93716</td>\n      <td>Maricao</td>\n      <td>PR</td>\n      <td>Puerto Rico</td>\n      <td>True</td>\n      <td>NaN</td>\n      <td>5751.0</td>\n      <td>50.1</td>\n      <td>72093</td>\n      <td>Maricao</td>\n      <td>{\"72093\": 82.26, \"72153\": 11.68, \"72121\": 6.06}</td>\n      <td>Maricao|Yauco|Sabana Grande</td>\n      <td>72093|72153|72121</td>\n      <td>False</td>\n      <td>False</td>\n      <td>America/Puerto_Rico</td>\n      <td>114.790419</td>\n    </tr>\n    <tr>\n      <th>4</th>\n      <td>00610</td>\n      <td>18.29110</td>\n      <td>-67.12243</td>\n      <td>Anasco</td>\n      <td>PR</td>\n      <td>Puerto Rico</td>\n      <td>True</td>\n      <td>NaN</td>\n      <td>26153.0</td>\n      <td>272.1</td>\n      <td>72011</td>\n      <td>Añasco</td>\n      <td>{\"72011\": 96.71, \"72099\": 2.81, \"72083\": 0.37,...</td>\n      <td>Añasco|Moca|Las Marías|Aguada</td>\n      <td>72011|72099|72083|72003</td>\n      <td>False</td>\n      <td>False</td>\n      <td>America/Puerto_Rico</td>\n      <td>96.115399</td>\n    </tr>\n  </tbody>\n</table>\n</div>"
          },
          "metadata": {}
        }
      ],
      "execution_count": 31,
      "metadata": {
        "jupyter": {
          "source_hidden": false,
          "outputs_hidden": false
        },
        "nteract": {
          "transient": {
            "deleting": false
          }
        }
      }
    },
    {
      "cell_type": "code",
      "source": [
        "pdf_zipdata.dtypes"
      ],
      "outputs": [
        {
          "output_type": "display_data",
          "data": {
            "application/vnd.livy.statement-meta+json": {
              "spark_pool": "DSETLProd",
              "session_id": "1220",
              "statement_id": 19,
              "state": "finished",
              "livy_statement_state": "available",
              "queued_time": "2023-05-31T17:59:15.3670241Z",
              "session_start_time": null,
              "execution_start_time": "2023-05-31T17:59:15.5695007Z",
              "execution_finish_time": "2023-05-31T17:59:15.7611318Z",
              "spark_jobs": null,
              "parent_msg_id": "9c7f6d51-2f88-4c3d-b2a2-725b2a53064d"
            },
            "text/plain": "StatementMeta(DSETLProd, 1220, 19, Finished, Available)"
          },
          "metadata": {}
        },
        {
          "output_type": "execute_result",
          "execution_count": 39,
          "data": {
            "text/plain": "zip                  object\nlat                 float64\nlng                 float64\ncity                 object\nstate_id             object\nstate_name           object\nzcta                   bool\nparent_zcta         float64\npopulation          float64\ndensity             float64\ncounty_fips           int64\ncounty_name          object\ncounty_weights       object\ncounty_names_all     object\ncounty_fips_all      object\nimprecise              bool\nmilitary               bool\ntimezone             object\narea                float64\ndtype: object"
          },
          "metadata": {}
        }
      ],
      "execution_count": 33,
      "metadata": {
        "jupyter": {
          "source_hidden": false,
          "outputs_hidden": false
        },
        "nteract": {
          "transient": {
            "deleting": false
          }
        }
      }
    },
    {
      "cell_type": "code",
      "source": [
        "pdf_zipdata['county_fips_all'].unique"
      ],
      "outputs": [
        {
          "output_type": "display_data",
          "data": {
            "application/vnd.livy.statement-meta+json": {
              "spark_pool": "DSETLProd",
              "session_id": "1220",
              "statement_id": 20,
              "state": "finished",
              "livy_statement_state": "available",
              "queued_time": "2023-05-31T18:01:13.0469062Z",
              "session_start_time": null,
              "execution_start_time": "2023-05-31T18:01:13.1992761Z",
              "execution_finish_time": "2023-05-31T18:01:15.149087Z",
              "spark_jobs": null,
              "parent_msg_id": "c2b4e971-61ce-4418-a525-f1fb0f886dc3"
            },
            "text/plain": "StatementMeta(DSETLProd, 1220, 20, Finished, Available)"
          },
          "metadata": {}
        },
        {
          "output_type": "execute_result",
          "execution_count": 41,
          "data": {
            "text/plain": "<bound method Series.unique of 0                    72001|72141\n1                          72003\n2                    72005|72099\n3              72093|72153|72121\n4        72011|72099|72083|72003\n                  ...           \n33783                       2198\n33784                       2198\n33785                       2198\n33786                       2198\n33787                       2275\nName: county_fips_all, Length: 33788, dtype: object>"
          },
          "metadata": {}
        }
      ],
      "execution_count": 34,
      "metadata": {
        "jupyter": {
          "source_hidden": false,
          "outputs_hidden": false
        },
        "nteract": {
          "transient": {
            "deleting": false
          }
        }
      }
    },
    {
      "cell_type": "code",
      "source": [
        "#force d type to string since the col may be a set of values separated by pipe \r\n",
        "# we can deal with this later via string manipulation if we actually need it....\r\n",
        "pdf_zipdata['county_fips_all'] = pdf_zipdata['county_fips_all'].astype(str)"
      ],
      "outputs": [
        {
          "output_type": "display_data",
          "data": {
            "application/vnd.livy.statement-meta+json": {
              "spark_pool": "DSETLProd",
              "session_id": "1220",
              "statement_id": 21,
              "state": "finished",
              "livy_statement_state": "available",
              "queued_time": "2023-05-31T18:01:48.6930612Z",
              "session_start_time": null,
              "execution_start_time": "2023-05-31T18:01:48.8339405Z",
              "execution_finish_time": "2023-05-31T18:01:49.0391361Z",
              "spark_jobs": null,
              "parent_msg_id": "a5997b16-3859-4e15-a666-2fd2e1bcba47"
            },
            "text/plain": "StatementMeta(DSETLProd, 1220, 21, Finished, Available)"
          },
          "metadata": {}
        }
      ],
      "execution_count": 35,
      "metadata": {
        "jupyter": {
          "source_hidden": false,
          "outputs_hidden": false
        },
        "nteract": {
          "transient": {
            "deleting": false
          }
        }
      }
    }
  ],
  "metadata": {
    "kernelspec": {
      "name": "synapse_pyspark",
      "display_name": "Synapse PySpark"
    },
    "language_info": {
      "name": "python"
    },
    "description": null,
    "save_output": true,
    "synapse_widget": {
      "version": "0.1",
      "state": {}
    }
  },
  "nbformat": 4,
  "nbformat_minor": 2
}