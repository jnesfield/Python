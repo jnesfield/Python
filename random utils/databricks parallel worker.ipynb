{
 "cells": [
  {
   "cell_type": "code",
   "execution_count": null,
   "metadata": {},
   "outputs": [],
   "source": [
    "# his is how you pass variables from parent to child, consider since you have 3 vars to control for using a tuple (state, geoid, oneway/intown)\n",
    "# here is more info on dbutils and widgets: https://learn.microsoft.com/en-us/azure/databricks/dev-tools/databricks-utils#dbutils-widgets\n",
    "\n",
    "dbutils.widgets.text(\"state\",\"\",\"\")\n",
    "dbutils.widgets.get(\"state\")\n",
    "state = getArgument(\"state\")\n",
    "\n",
    "dbutils.widgets.text(\"metro_geoid\",\"\",\"\")\n",
    "dbutils.widgets.get(\"metro_geoid\")\n",
    "metro_geoid = int(getArgument(\"metro_geoid\"))\n",
    "\n",
    "dbutils.widgets.text(\"oneway\",\"\",\"\")\n",
    "dbutils.widgets.get(\"oneway\")\n",
    "oneway = getArgument(\"oneway\")\n"
   ]
  },
  {
   "cell_type": "markdown",
   "metadata": {},
   "source": [
    "once you have the passed variables you can do what ever you want here\n",
    "\n"
   ]
  },
  {
   "cell_type": "code",
   "execution_count": null,
   "metadata": {},
   "outputs": [],
   "source": []
  }
 ],
 "metadata": {
  "kernelspec": {
   "display_name": "Python 3",
   "language": "python",
   "name": "python3"
  },
  "language_info": {
   "codemirror_mode": {
    "name": "ipython",
    "version": 3
   },
   "file_extension": ".py",
   "mimetype": "text/x-python",
   "name": "python",
   "nbconvert_exporter": "python",
   "pygments_lexer": "ipython3",
   "version": "3.8.10"
  }
 },
 "nbformat": 4,
 "nbformat_minor": 2
}
