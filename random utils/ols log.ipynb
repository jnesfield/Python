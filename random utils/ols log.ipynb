{
 "cells": [
  {
   "cell_type": "markdown",
   "id": "9299bf63",
   "metadata": {},
   "source": [
    "# dealing with a log target:\n",
    "\n",
    "https://library.virginia.edu/data/articles/interpreting-log-transformations-in-a-linear-model"
   ]
  },
  {
   "cell_type": "code",
   "execution_count": 1,
   "id": "ccee812a",
   "metadata": {},
   "outputs": [
    {
     "name": "stdout",
     "output_type": "stream",
     "text": [
      "         x1        x2        x3     noise    target\n",
      "0  0.374540  0.373641  0.729998 -0.063069  3.248747\n",
      "1  0.950714  0.332912  0.184512  0.214031  2.384105\n",
      "2  0.731994  0.176154  0.346640  0.166568  2.290789\n",
      "3  0.598658  0.607267  0.663281  0.073094  3.876127\n",
      "4  0.156019  0.476624  0.482089 -0.034308  2.521227\n"
     ]
    }
   ],
   "source": [
    "import pandas as pd\n",
    "import numpy as np\n",
    "from sklearn.linear_model import LinearRegression, Ridge\n",
    "\n",
    "test_array = np.array([1,2,3,4,5])\n",
    "\n",
    "\n",
    "# Set a random seed for reproducibility\n",
    "np.random.seed(42)\n",
    "\n",
    "# Number of samples\n",
    "num_samples = 10000\n",
    "\n",
    "# Generate synthetic data\n",
    "x1 = np.random.rand(num_samples)\n",
    "x2 = np.random.rand(num_samples)\n",
    "x3 = np.random.rand(num_samples)\n",
    "noise = np.random.normal(loc=0, scale=0.1, size=num_samples)\n",
    "\n",
    "# Calculate target based on the formula: target = x1 * 1 + x2 * 2 + x3 * 3 + noise\n",
    "target = x1 * 1 + x2 * 2 + x3 * 3 + noise\n",
    "\n",
    "# Create a pandas DataFrame\n",
    "data = pd.DataFrame({'x1': x1, 'x2': x2, 'x3': x3, 'noise': noise, 'target': target})\n",
    "\n",
    "# Display the DataFrame\n",
    "print(data.head())"
   ]
  },
  {
   "cell_type": "code",
   "execution_count": 2,
   "id": "edb9518d",
   "metadata": {},
   "outputs": [
    {
     "data": {
      "text/plain": [
       "array([1., 2., 3., 1.])"
      ]
     },
     "execution_count": 2,
     "metadata": {},
     "output_type": "execute_result"
    }
   ],
   "source": [
    "X = data[['x1','x2','x3','noise']]\n",
    "y = data['target']\n",
    "\n",
    "model = LinearRegression()\n",
    "\n",
    "model.fit(X,y)\n",
    "\n",
    "model.coef_"
   ]
  },
  {
   "cell_type": "code",
   "execution_count": 3,
   "id": "acef012d",
   "metadata": {},
   "outputs": [
    {
     "data": {
      "text/plain": [
       "array([0.31355088, 0.6989442 , 1.05462518, 0.39284309])"
      ]
     },
     "execution_count": 3,
     "metadata": {},
     "output_type": "execute_result"
    }
   ],
   "source": [
    "X = data[['x1','x2','x3','noise']]\n",
    "y = np.log(data['target'])\n",
    "\n",
    "model = Ridge(fit_intercept = False, alpha = 0.02, tol = 0.000001)\n",
    "\n",
    "model.fit(X,y)\n",
    "\n",
    "model.coef_"
   ]
  },
  {
   "cell_type": "code",
   "execution_count": 4,
   "id": "4938e3fe",
   "metadata": {},
   "outputs": [
    {
     "data": {
      "text/plain": [
       "array([1.36827508, 2.0116277 , 2.87089889, 1.48118595])"
      ]
     },
     "execution_count": 4,
     "metadata": {},
     "output_type": "execute_result"
    }
   ],
   "source": [
    "np.exp(model.coef_)"
   ]
  },
  {
   "cell_type": "code",
   "execution_count": 5,
   "id": "f6871295",
   "metadata": {},
   "outputs": [
    {
     "data": {
      "text/html": [
       "<div>\n",
       "<style scoped>\n",
       "    .dataframe tbody tr th:only-of-type {\n",
       "        vertical-align: middle;\n",
       "    }\n",
       "\n",
       "    .dataframe tbody tr th {\n",
       "        vertical-align: top;\n",
       "    }\n",
       "\n",
       "    .dataframe thead th {\n",
       "        text-align: right;\n",
       "    }\n",
       "</style>\n",
       "<table border=\"1\" class=\"dataframe\">\n",
       "  <thead>\n",
       "    <tr style=\"text-align: right;\">\n",
       "      <th></th>\n",
       "      <th>x1</th>\n",
       "      <th>x2</th>\n",
       "      <th>x3</th>\n",
       "      <th>noise</th>\n",
       "      <th>target</th>\n",
       "      <th>prediction</th>\n",
       "      <th>log_pred</th>\n",
       "      <th>log_target</th>\n",
       "    </tr>\n",
       "  </thead>\n",
       "  <tbody>\n",
       "    <tr>\n",
       "      <th>0</th>\n",
       "      <td>0.374540</td>\n",
       "      <td>0.373641</td>\n",
       "      <td>0.729998</td>\n",
       "      <td>-0.063069</td>\n",
       "      <td>3.248747</td>\n",
       "      <td>3.076184</td>\n",
       "      <td>1.123690</td>\n",
       "      <td>1.178270</td>\n",
       "    </tr>\n",
       "    <tr>\n",
       "      <th>1</th>\n",
       "      <td>0.950714</td>\n",
       "      <td>0.332912</td>\n",
       "      <td>0.184512</td>\n",
       "      <td>0.214031</td>\n",
       "      <td>2.384105</td>\n",
       "      <td>2.246685</td>\n",
       "      <td>0.809456</td>\n",
       "      <td>0.868824</td>\n",
       "    </tr>\n",
       "    <tr>\n",
       "      <th>2</th>\n",
       "      <td>0.731994</td>\n",
       "      <td>0.176154</td>\n",
       "      <td>0.346640</td>\n",
       "      <td>0.166568</td>\n",
       "      <td>2.290789</td>\n",
       "      <td>2.189447</td>\n",
       "      <td>0.783649</td>\n",
       "      <td>0.828896</td>\n",
       "    </tr>\n",
       "    <tr>\n",
       "      <th>3</th>\n",
       "      <td>0.598658</td>\n",
       "      <td>0.607267</td>\n",
       "      <td>0.663281</td>\n",
       "      <td>0.073094</td>\n",
       "      <td>3.876127</td>\n",
       "      <td>3.820503</td>\n",
       "      <td>1.340382</td>\n",
       "      <td>1.354837</td>\n",
       "    </tr>\n",
       "    <tr>\n",
       "      <th>4</th>\n",
       "      <td>0.156019</td>\n",
       "      <td>0.476624</td>\n",
       "      <td>0.482089</td>\n",
       "      <td>-0.034308</td>\n",
       "      <td>2.521227</td>\n",
       "      <td>2.403677</td>\n",
       "      <td>0.877000</td>\n",
       "      <td>0.924746</td>\n",
       "    </tr>\n",
       "  </tbody>\n",
       "</table>\n",
       "</div>"
      ],
      "text/plain": [
       "         x1        x2        x3     noise    target  prediction  log_pred  \\\n",
       "0  0.374540  0.373641  0.729998 -0.063069  3.248747    3.076184  1.123690   \n",
       "1  0.950714  0.332912  0.184512  0.214031  2.384105    2.246685  0.809456   \n",
       "2  0.731994  0.176154  0.346640  0.166568  2.290789    2.189447  0.783649   \n",
       "3  0.598658  0.607267  0.663281  0.073094  3.876127    3.820503  1.340382   \n",
       "4  0.156019  0.476624  0.482089 -0.034308  2.521227    2.403677  0.877000   \n",
       "\n",
       "   log_target  \n",
       "0    1.178270  \n",
       "1    0.868824  \n",
       "2    0.828896  \n",
       "3    1.354837  \n",
       "4    0.924746  "
      ]
     },
     "execution_count": 5,
     "metadata": {},
     "output_type": "execute_result"
    }
   ],
   "source": [
    "test_df = data.copy()\n",
    "\n",
    "cols = ['x1','x2','x3','noise']\n",
    "coefs = model.coef_\n",
    "\n",
    "test_df['prediction'] = 1\n",
    "test_df['log_pred'] = 0\n",
    "test_df['log_target'] = np.log(test_df['target'])\n",
    "\n",
    "for i in range(4):\n",
    "    test_df['log_pred'] = test_df[cols[i]] * coefs[i] + test_df['log_pred']\n",
    "    test_df['prediction'] = np.exp(test_df[cols[i]] * coefs[i])*test_df['prediction']\n",
    "    \n",
    "test_df.head()\n",
    "    "
   ]
  },
  {
   "cell_type": "code",
   "execution_count": null,
   "id": "c08fb451",
   "metadata": {},
   "outputs": [],
   "source": []
  }
 ],
 "metadata": {
  "kernelspec": {
   "display_name": "Python 3 (ipykernel)",
   "language": "python",
   "name": "python3"
  },
  "language_info": {
   "codemirror_mode": {
    "name": "ipython",
    "version": 3
   },
   "file_extension": ".py",
   "mimetype": "text/x-python",
   "name": "python",
   "nbconvert_exporter": "python",
   "pygments_lexer": "ipython3",
   "version": "3.8.10"
  }
 },
 "nbformat": 4,
 "nbformat_minor": 5
}
