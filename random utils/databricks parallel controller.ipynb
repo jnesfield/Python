{
 "cells": [
  {
   "cell_type": "code",
   "execution_count": null,
   "metadata": {},
   "outputs": [],
   "source": [
    "from concurrent.futures import ThreadPoolExecutor, ProcessPoolExecutor\n",
    "import pandas as pd"
   ]
  },
  {
   "cell_type": "code",
   "execution_count": null,
   "metadata": {},
   "outputs": [],
   "source": [
    "#define function to call notebooks and run job\n",
    "def run_test_notebook(control_tuple):\n",
    "    dbutils.notebook.run(path = <notebook path>,\n",
    "                                        timeout_seconds = 10000,\n",
    "                                        arguments = {\"state\":control_tuple[0], \n",
    "                                                     \"metro_geoid\":control_tuple[1], \n",
    "                                                     \"oneway\": control_tuple[2]})"
   ]
  },
  {
   "cell_type": "code",
   "execution_count": null,
   "metadata": {},
   "outputs": [],
   "source": [
    "#tuple to control inputs\n",
    "#all must be strings to enable dbutils widgets to grab the values\n",
    "dummy_list = [(\"NY\", \"35620\", \"OneWay\"), (\"NY\", \"35620\", \"InTown\")] \n",
    "with ThreadPoolExecutor() as executor:\n",
    "    results = executor.map(run_test_notebook, dummy_list)"
   ]
  },
  {
   "cell_type": "markdown",
   "metadata": {},
   "source": [
    "if outputs are generated you can clock to a managed hive table to store and recall later\n",
    "\n",
    "ideally write job run to temp table then at the end append them to a prod or persistent table for long term storage\n",
    "\n",
    "this is so your temp tables can be used to track immediate errors and assertions or error checks can be placed to halt the job before it writes to prod/persistent if there is an error.\n"
   ]
  },
  {
   "cell_type": "code",
   "execution_count": null,
   "metadata": {},
   "outputs": [],
   "source": []
  }
 ],
 "metadata": {
  "kernelspec": {
   "display_name": "Python 3",
   "language": "python",
   "name": "python3"
  },
  "language_info": {
   "codemirror_mode": {
    "name": "ipython",
    "version": 3
   },
   "file_extension": ".py",
   "mimetype": "text/x-python",
   "name": "python",
   "nbconvert_exporter": "python",
   "pygments_lexer": "ipython3",
   "version": "3.8.10"
  }
 },
 "nbformat": 4,
 "nbformat_minor": 2
}
