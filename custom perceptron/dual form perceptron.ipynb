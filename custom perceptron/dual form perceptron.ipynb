{
 "cells": [
  {
   "cell_type": "code",
   "execution_count": null,
   "metadata": {},
   "outputs": [],
   "source": [
    "import numpy as np"
   ]
  },
  {
   "cell_type": "code",
   "execution_count": 43,
   "metadata": {},
   "outputs": [],
   "source": [
    "def dual_perceptron(x, y):\n",
    "    \n",
    "    #number of x variables\n",
    "    x_vars = len(x[0])\n",
    "    \n",
    "    \n",
    "    #initalize w\n",
    "    w = np.zeros(x_vars)\n",
    "    \n",
    "    alpha = np.zeros(len(x))\n",
    "    b = 0\n",
    "    \n",
    "    #check\n",
    "    misclassify = 1\n",
    "    update = 0\n",
    "    \n",
    "    while misclassify != 0:\n",
    "        check = 0  \n",
    "        \n",
    "        for i in range(len(x)):\n",
    "            value = y[i]*(w @ x[i] + b)\n",
    "            if value <=0:\n",
    "                alpha[i] += 1\n",
    "                b = (b + y[i])\n",
    "                check = check +1\n",
    "                update = update + 1\n",
    "\n",
    "        w = np.zeros(len(x[0]))\n",
    "\n",
    "        for i in range(len(alpha)):\n",
    "            w += alpha[i]*x[i]*y[i] \n",
    "            \n",
    "        if check ==0:\n",
    "            misclassify = 0\n",
    "    \n",
    "    return alpha, b, w\n",
    "    "
   ]
  },
  {
   "cell_type": "code",
   "execution_count": 44,
   "metadata": {},
   "outputs": [
    {
     "name": "stdout",
     "output_type": "stream",
     "text": [
      "[4. 3.]\n",
      "[9. 8. 8. 8. 4. 4. 3. 3.]\n",
      "[4. 3.]\n",
      "-19\n"
     ]
    }
   ],
   "source": [
    "x = np.array([[1,2],[2,1],[2,3],[3,2],[4,5],[5,4],[5,6],[6,5]])\n",
    "y = np.array([-1,-1,-1,-1,1,1,1,1])\n",
    "\n",
    "alpha, b,w = dual_perceptron(x,y)\n",
    "\n",
    "print(w)\n",
    "\n",
    "w = np.zeros(len(x[0]))\n",
    "\n",
    "for i in range(len(alpha)):\n",
    "    w += alpha[i]*x[i]*y[i] \n",
    "print(alpha)\n",
    "print(w)\n",
    "print(b)"
   ]
  },
  {
   "cell_type": "code",
   "execution_count": 45,
   "metadata": {},
   "outputs": [
    {
     "name": "stdout",
     "output_type": "stream",
     "text": [
      "2\n",
      "4.0\n",
      "1\n",
      "3.0\n",
      "-8.0\n"
     ]
    }
   ],
   "source": [
    "#predict\n",
    "print(x[1][0])\n",
    "print(w[0])\n",
    "print(x[1][1])\n",
    "print(w[1])\n",
    "ans = (x[1][0]*w[0])+(x[1][1]*w[1])+b\n",
    "print(ans)"
   ]
  },
  {
   "cell_type": "code",
   "execution_count": 46,
   "metadata": {},
   "outputs": [
    {
     "name": "stdout",
     "output_type": "stream",
     "text": [
      "-9.0\n"
     ]
    }
   ],
   "source": [
    "ans = (x[0][0]*w[0])+(x[0][1]*w[1])+b\n",
    "print(ans)"
   ]
  },
  {
   "cell_type": "code",
   "execution_count": 47,
   "metadata": {},
   "outputs": [
    {
     "name": "stdout",
     "output_type": "stream",
     "text": [
      "-2.0\n"
     ]
    }
   ],
   "source": [
    "ans = (x[2][0]*w[0])+(x[2][1]*w[1])+b\n",
    "print(ans)"
   ]
  },
  {
   "cell_type": "code",
   "execution_count": 48,
   "metadata": {},
   "outputs": [
    {
     "name": "stdout",
     "output_type": "stream",
     "text": [
      "-1.0\n"
     ]
    }
   ],
   "source": [
    "ans = (x[3][0]*w[0])+(x[3][1]*w[1])+b\n",
    "print(ans)"
   ]
  },
  {
   "cell_type": "code",
   "execution_count": 49,
   "metadata": {},
   "outputs": [
    {
     "name": "stdout",
     "output_type": "stream",
     "text": [
      "12.0\n"
     ]
    }
   ],
   "source": [
    "ans = (x[4][0]*w[0])+(x[4][1]*w[1])+b\n",
    "print(ans)"
   ]
  },
  {
   "cell_type": "code",
   "execution_count": 50,
   "metadata": {},
   "outputs": [
    {
     "name": "stdout",
     "output_type": "stream",
     "text": [
      "13.0\n"
     ]
    }
   ],
   "source": [
    "ans = (x[5][0]*w[0])+(x[5][1]*w[1])+b\n",
    "print(ans)"
   ]
  },
  {
   "cell_type": "code",
   "execution_count": 51,
   "metadata": {},
   "outputs": [
    {
     "name": "stdout",
     "output_type": "stream",
     "text": [
      "19.0\n"
     ]
    }
   ],
   "source": [
    "ans = (x[6][0]*w[0])+(x[6][1]*w[1])+b\n",
    "print(ans)"
   ]
  },
  {
   "cell_type": "code",
   "execution_count": 52,
   "metadata": {},
   "outputs": [
    {
     "name": "stdout",
     "output_type": "stream",
     "text": [
      "20.0\n"
     ]
    }
   ],
   "source": [
    "ans = (x[7][0]*w[0])+(x[7][1]*w[1])+b\n",
    "print(ans)"
   ]
  },
  {
   "cell_type": "code",
   "execution_count": null,
   "metadata": {},
   "outputs": [],
   "source": []
  }
 ],
 "metadata": {
  "kernelspec": {
   "display_name": "Python 3",
   "language": "python",
   "name": "python3"
  },
  "language_info": {
   "codemirror_mode": {
    "name": "ipython",
    "version": 3
   },
   "file_extension": ".py",
   "mimetype": "text/x-python",
   "name": "python",
   "nbconvert_exporter": "python",
   "pygments_lexer": "ipython3",
   "version": "3.8.5"
  }
 },
 "nbformat": 4,
 "nbformat_minor": 4
}
