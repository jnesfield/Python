{
 "cells": [
  {
   "cell_type": "code",
   "execution_count": 12,
   "metadata": {},
   "outputs": [],
   "source": [
    "import numpy as np\n",
    "from math import sqrt\n",
    "\n",
    "def perceptron_algo(x,y):\n",
    "    \n",
    "    #number of rows\n",
    "    x_len = len(x)\n",
    "    print(x_len)\n",
    "    \n",
    "    #number of x variables\n",
    "    x_vars = len(x[0])\n",
    "    print(x_vars)\n",
    "    \n",
    "    #initalize w\n",
    "    w = np.zeros(x_vars)\n",
    "    \n",
    "    #init b\n",
    "    b = 0\n",
    "    \n",
    "    #check\n",
    "    misclassify = 1\n",
    "    update = 0\n",
    "    \n",
    "    while misclassify != 0:\n",
    "        check = 0\n",
    "        \n",
    "        for i in range(x_len):\n",
    "            value = y[i]*(w @ x[i] + b)\n",
    "            if value <=0:\n",
    "                w = (w + (y[i] * x[i]))\n",
    "                b = (b + y[i])\n",
    "                check = check +1\n",
    "                update = update + 1\n",
    "            \n",
    "        if check ==0:\n",
    "            misclassify = 0\n",
    "    \n",
    "    return w, b, update\n",
    "        "
   ]
  },
  {
   "cell_type": "code",
   "execution_count": 13,
   "metadata": {},
   "outputs": [
    {
     "name": "stdout",
     "output_type": "stream",
     "text": [
      "8\n",
      "2\n",
      "[2. 2.]\n",
      "-12\n",
      "28\n"
     ]
    }
   ],
   "source": [
    "x = np.array([[1,2],[2,1],[2,3],[3,2],[4,5],[5,4],[5,6],[6,5]])\n",
    "y = np.array([-1,-1,-1,-1,1,1,1,1])\n",
    "\n",
    "w, b, update = perceptron_algo(x,y)\n",
    "\n",
    "print(w)\n",
    "print(b)\n",
    "print(update)"
   ]
  },
  {
   "cell_type": "code",
   "execution_count": 9,
   "metadata": {},
   "outputs": [
    {
     "name": "stdout",
     "output_type": "stream",
     "text": [
      "[-1 -2]\n"
     ]
    }
   ],
   "source": [
    "x = np.array([1,2])\n",
    "y = -1\n",
    "\n",
    "print(x * y)"
   ]
  },
  {
   "cell_type": "code",
   "execution_count": null,
   "metadata": {},
   "outputs": [],
   "source": []
  }
 ],
 "metadata": {
  "kernelspec": {
   "display_name": "Python 3",
   "language": "python",
   "name": "python3"
  },
  "language_info": {
   "codemirror_mode": {
    "name": "ipython",
    "version": 3
   },
   "file_extension": ".py",
   "mimetype": "text/x-python",
   "name": "python",
   "nbconvert_exporter": "python",
   "pygments_lexer": "ipython3",
   "version": "3.8.5"
  }
 },
 "nbformat": 4,
 "nbformat_minor": 4
}
