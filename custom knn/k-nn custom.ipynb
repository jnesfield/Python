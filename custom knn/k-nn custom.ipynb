{
 "cells": [
  {
   "cell_type": "markdown",
   "metadata": {},
   "source": [
    "k-nearest neighbor<br>\n",
    "custom code<br>"
   ]
  },
  {
   "cell_type": "code",
   "execution_count": 1,
   "metadata": {},
   "outputs": [],
   "source": [
    "import numpy as np\n",
    "import matplotlib.pyplot as plt \n",
    "%matplotlib inline"
   ]
  },
  {
   "cell_type": "code",
   "execution_count": 3,
   "metadata": {},
   "outputs": [],
   "source": [
    "#compute l p distance, for l(infinity) use p = 'inf'\n",
    "def l_p_dist(x, y, p):\n",
    "    x_len = len(x)\n",
    "    y_len = len(y)\n",
    "    \n",
    "    if x_len != y_len:\n",
    "        print(\"vectors do not match in length\")\n",
    "        return None\n",
    "    \n",
    "    length = 0\n",
    "    \n",
    "    if p == 'inf':\n",
    "        for i in range(0,x_len):\n",
    "            temp = (x[i] - y[i])\n",
    "            if length > temp:\n",
    "                length = temp\n",
    "    \n",
    "    else:\n",
    "        for i in range(0,x_len):\n",
    "            temp = (abs(x[i] - y[i]))**p\n",
    "            length = length + temp\n",
    "\n",
    "        length = (length)**(1/p)\n",
    "    \n",
    "    return length"
   ]
  },
  {
   "cell_type": "code",
   "execution_count": 16,
   "metadata": {},
   "outputs": [],
   "source": [
    "## Takes a vector x and returns the index of its nearest neighbors in p train_data\n",
    "def find_NN(x, p):\n",
    "    # Compute distances from x to every row in train_data\n",
    "    distances = [l_p_dist(x,train_data[i,], p) for i in range(len(train_labels))]\n",
    "    #push distances to np array\n",
    "    distances = np.array(distances)\n",
    "    # Get the index of the smallest distance\n",
    "    nearest = distances.argsort()\n",
    "    return nearest"
   ]
  },
  {
   "cell_type": "code",
   "execution_count": 17,
   "metadata": {},
   "outputs": [],
   "source": [
    "## Takes a vector x and returns the class of its k nearest neighbors in  p train_data\n",
    "def NN_classifier(x, p, k):\n",
    "    # Get the index of the the nearest neighbor\n",
    "    indices = find_NN(x, p)\n",
    "    #define dummy list for results\n",
    "    dummy_list = []\n",
    "    #loop thru indicies and get training classifications\n",
    "    for i in range(0,k):\n",
    "        dummy_list.append(train_labels[indices[i]])\n",
    "    #push dummy list to np array\n",
    "    np_arr = np.array(dummy_list)\n",
    "    #get majority class\n",
    "    u, c = np.unique(x, return_counts = True)\n",
    "    classification = u[c == c.max()]    \n",
    "    #Return its class\n",
    "    return classification"
   ]
  },
  {
   "cell_type": "code",
   "execution_count": 18,
   "metadata": {},
   "outputs": [],
   "source": [
    "##define train_data and train_labels\n",
    "## Load the training set\n",
    "train_data = np.load('train_data.npy')\n",
    "train_labels = np.load('train_labels.npy')\n",
    "\n",
    "## Load the testing set\n",
    "test_data = np.load('test_data.npy')\n",
    "test_labels = np.load('test_labels.npy')"
   ]
  },
  {
   "cell_type": "code",
   "execution_count": 19,
   "metadata": {},
   "outputs": [
    {
     "data": {
      "image/png": "[encoded data removed]",
      "text/plain": [
       "<Figure size 432x288 with 1 Axes>"
      ]
     },
     "metadata": {
      "needs_background": "light"
     },
     "output_type": "display_data"
    },
    {
     "name": "stdout",
     "output_type": "stream",
     "text": [
      "Label 0\n"
     ]
    }
   ],
   "source": [
    "## Define a function that displays a digit given its vector representation\n",
    "def show_digit(x):\n",
    "    plt.axis('off')\n",
    "    plt.imshow(x.reshape((28,28)), cmap=plt.cm.gray)\n",
    "    plt.show()\n",
    "    return\n",
    "\n",
    "## Define a function that takes an index into a particular data set (\"train\" or \"test\") and displays that image.\n",
    "def vis_image(index, dataset=\"train\"):\n",
    "    if(dataset==\"train\"): \n",
    "        show_digit(train_data[index,])\n",
    "        label = train_labels[index]\n",
    "    else:\n",
    "        show_digit(test_data[index,])\n",
    "        label = test_labels[index]\n",
    "    print(\"Label \" + str(label))\n",
    "    return\n",
    "\n",
    "## Now view the first data point in the test set\n",
    "vis_image(0, \"test\")\n",
    "\n",
    "\n"
   ]
  },
  {
   "cell_type": "code",
   "execution_count": 22,
   "metadata": {},
   "outputs": [
    {
     "name": "stdout",
     "output_type": "stream",
     "text": [
      "[0.]\n"
     ]
    }
   ],
   "source": [
    "x = test_data[0,]\n",
    "p = 'inf'\n",
    "k = 5\n",
    "\n",
    "print(NN_classifier(x, p, k))"
   ]
  },
  {
   "cell_type": "code",
   "execution_count": null,
   "metadata": {},
   "outputs": [],
   "source": []
  }
 ],
 "metadata": {
  "kernelspec": {
   "display_name": "Python 3",
   "language": "python",
   "name": "python3"
  },
  "language_info": {
   "codemirror_mode": {
    "name": "ipython",
    "version": 3
   },
   "file_extension": ".py",
   "mimetype": "text/x-python",
   "name": "python",
   "nbconvert_exporter": "python",
   "pygments_lexer": "ipython3",
   "version": "3.8.5"
  }
 },
 "nbformat": 4,
 "nbformat_minor": 4
}
