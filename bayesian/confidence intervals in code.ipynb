{
 "cells": [
  {
   "cell_type": "code",
   "execution_count": 1,
   "metadata": {},
   "outputs": [],
   "source": [
    "import numpy as np\n",
    "from scipy.stats import norm, t"
   ]
  },
  {
   "cell_type": "code",
   "execution_count": 2,
   "metadata": {},
   "outputs": [],
   "source": [
    "np.random.seed(1)"
   ]
  },
  {
   "cell_type": "code",
   "execution_count": 3,
   "metadata": {},
   "outputs": [],
   "source": [
    "N = 1000\n",
    "mu = 5\n",
    "sigma = 2\n",
    "X = np.random.randn(N)*sigma + mu"
   ]
  },
  {
   "cell_type": "code",
   "execution_count": 4,
   "metadata": {},
   "outputs": [
    {
     "name": "stdout",
     "output_type": "stream",
     "text": [
      "lower bound: 4.955959806754385\n",
      "sample mean: 5.077624952319204\n",
      "upper bound: 5.199290097884023\n"
     ]
    }
   ],
   "source": [
    "#z-conf intervals\n",
    "interval = .95\n",
    "left = (1 - interval) / 2\n",
    "right = left + interval\n",
    "\n",
    "mu_hat = np.mean(X)\n",
    "sigma_hat = np.std(X, ddof = 1)\n",
    "z_left = norm.ppf(left)\n",
    "z_right = norm.ppf(right)\n",
    "lower = mu_hat + z_left * sigma_hat / np.sqrt(N)\n",
    "upper = mu_hat + z_right * sigma_hat / np.sqrt(N)\n",
    "print(\"lower bound:\",lower)\n",
    "print(\"sample mean:\",mu_hat)\n",
    "print(\"upper bound:\", upper)"
   ]
  },
  {
   "cell_type": "code",
   "execution_count": 5,
   "metadata": {},
   "outputs": [
    {
     "name": "stdout",
     "output_type": "stream",
     "text": [
      "lower bound: 4.9558122244324165\n",
      "sample mean: 5.077624952319204\n",
      "upper bound: 5.199437680205992\n"
     ]
    }
   ],
   "source": [
    "#t-confidence intervals\n",
    "#z-conf intervals\n",
    "interval = .95\n",
    "left = (1 - interval) / 2\n",
    "right = left + interval\n",
    "\n",
    "mu_hat = np.mean(X)\n",
    "sigma_hat = np.std(X, ddof = 1)\n",
    "t_left = t.ppf(left, df = N - 1)\n",
    "t_right = t.ppf(right, df = N - 1)\n",
    "lower = mu_hat + t_left * sigma_hat / np.sqrt(N)\n",
    "upper = mu_hat + t_right * sigma_hat / np.sqrt(N)\n",
    "print(\"lower bound:\",lower)\n",
    "print(\"sample mean:\",mu_hat)\n",
    "print(\"upper bound:\", upper)"
   ]
  },
  {
   "cell_type": "code",
   "execution_count": 6,
   "metadata": {},
   "outputs": [
    {
     "name": "stdout",
     "output_type": "stream",
     "text": [
      "mu is in the 95% conf interval:  0.96\n"
     ]
    }
   ],
   "source": [
    "#interpetation\n",
    "#if we do this exp many times then for the 95% ci\n",
    "#should containt the true value 95% of the time\n",
    "def experiment():\n",
    "    X = np.random.randn(N)*sigma + mu\n",
    "    mu_hat = np.mean(X)\n",
    "    sigma_hat = np.std(X, ddof = 1)\n",
    "    t_left = t.ppf(left, df = N - 1)\n",
    "    t_right = t.ppf(right, df = N - 1)\n",
    "    lower = mu_hat + t_left * sigma_hat / np.sqrt(N)\n",
    "    upper = mu_hat + t_right * sigma_hat / np.sqrt(N)    \n",
    "    return mu >  lower and mu < upper\n",
    "\n",
    "exp_results = [experiment() for i in range(1000)]\n",
    "\n",
    "print(\"mu is in the 95% conf interval: \", sum(exp_results)/len(exp_results))"
   ]
  },
  {
   "cell_type": "code",
   "execution_count": null,
   "metadata": {},
   "outputs": [],
   "source": []
  }
 ],
 "metadata": {
  "kernelspec": {
   "display_name": "Python 3",
   "language": "python",
   "name": "python3"
  },
  "language_info": {
   "codemirror_mode": {
    "name": "ipython",
    "version": 3
   },
   "file_extension": ".py",
   "mimetype": "text/x-python",
   "name": "python",
   "nbconvert_exporter": "python",
   "pygments_lexer": "ipython3",
   "version": "3.8.3"
  }
 },
 "nbformat": 4,
 "nbformat_minor": 4
}
